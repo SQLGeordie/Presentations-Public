{
    "metadata": {
        "kernelspec": {
            "name": "powershell",
            "display_name": "PowerShell",
            "language": "powershell"
        },
        "language_info": {
            "name": "powershell",
            "codemirror_mode": "shell",
            "mimetype": "text/x-sh",
            "file_extension": ".ps1"
        }
    },
    "nbformat_minor": 2,
    "nbformat": 4,
    "cells": [
        {
            "cell_type": "markdown",
            "source": [
                "# Set parameters for script"
            ],
            "metadata": {
                "azdata_cell_guid": "8393eab6-6dbb-4871-9810-8415d7981ae5"
            }
        },
        {
            "cell_type": "code",
            "source": [
                "$resourcegroup = 'aks-rg-demo'\r\n",
                "$aksclustername = 'aks-cluster-demo'\r\n",
                "$SubscriptionId = \"xxxxx-Add Your Subscription Here-xxxxx\"\r\n",
                "$FolderLocation = \"...\\2 - Azure Kubernetes Service\"\r\n",
                "$cred = Get-Credential sa\r\n",
                "Write-Output $resourcegroup $aksclustername $SubscriptionId $FolderLocation\r\n",
                "Set-Location $FolderLocation\r\n",
                "Get-ChildItem $FolderLocation"
            ],
            "metadata": {
                "azdata_cell_guid": "d64b0ee7-2e79-43bf-b026-1064785ccc29",
                "tags": [
                    "parameters"
                ]
            },
            "outputs": [],
            "execution_count": null
        },
        {
            "cell_type": "markdown",
            "source": [
                "# Connect to Azure and set subscription"
            ],
            "metadata": {
                "azdata_cell_guid": "8f6ccff1-d4f4-46a3-8f3d-492f546b77ea"
            }
        },
        {
            "cell_type": "code",
            "source": [
                "Connect-AzAccount\r\n",
                "az account show\r\n",
                "az account set --subscription $SubscriptionId"
            ],
            "metadata": {
                "azdata_cell_guid": "d6a4e2c4-128c-47c3-8c22-a55327a2e9e9",
                "tags": []
            },
            "outputs": [],
            "execution_count": null
        },
        {
            "cell_type": "markdown",
            "source": [
                "## Start AKS Cluster"
            ],
            "metadata": {
                "azdata_cell_guid": "99993599-ed8c-4e64-a8fe-651ccd75ab5b"
            }
        },
        {
            "cell_type": "code",
            "source": [
                "az aks start --name $aksclustername --resource-group $resourcegroup"
            ],
            "metadata": {
                "azdata_cell_guid": "4f784260-76ec-4d68-b040-f39c357e2c83",
                "tags": []
            },
            "outputs": [],
            "execution_count": null
        },
        {
            "cell_type": "markdown",
            "source": [
                "## Set location of Demo"
            ],
            "metadata": {
                "azdata_cell_guid": "201dd3a6-a166-4dc2-8413-c10791460c10"
            }
        },
        {
            "cell_type": "code",
            "source": [
                "Set-Location $FolderLocation\r\n",
                "Get-ChildItem"
            ],
            "metadata": {
                "azdata_cell_guid": "2faa60b4-0933-48b9-9bd7-317e00fef076",
                "tags": []
            },
            "outputs": [],
            "execution_count": null
        },
        {
            "cell_type": "markdown",
            "source": [
                "## Create Simple Upgrade deployment"
            ],
            "metadata": {
                "azdata_cell_guid": "2671727d-c52f-4f36-ac9f-8735ea3c559f"
            }
        },
        {
            "cell_type": "code",
            "source": [
                "kubectl create namespace simpleupgrade\r\n",
                "\r\n",
                "kubectl apply -f aks-sqlserver-nopvc.yaml -n simpleupgrade\r\n",
                "#kubectl expose deployment aks-sqlserver-nopvc --name=sqlserverlb --type=LoadBalancer --port=1433 --target-port=1433 -n simpleupgrade"
            ],
            "metadata": {
                "azdata_cell_guid": "5b2096cd-9379-45e5-bbdc-299d54d8351b"
            },
            "outputs": [],
            "execution_count": null
        },
        {
            "cell_type": "code",
            "source": [
                "kubectl get pods -n simpleupgrade\r\n",
                "kubectl get service -n simpleupgrade\r\n",
                "#$cred = Get-Credential sa\r\n",
                "\r\n",
                "$podnamesimple = kubectl get pods -o jsonpath='{.items[0].metadata.name}' -n simpleupgrade\r\n",
                "kubectl logs $podnamesimple -n simpleupgrade\r\n",
                "kubectl describe pod $podnamesimple -n simpleupgrade"
            ],
            "metadata": {
                "azdata_cell_guid": "8d7cd9b6-5145-4bc5-9120-946c3c867475"
            },
            "outputs": [],
            "execution_count": null
        },
        {
            "cell_type": "markdown",
            "source": [
                "# Demo Start"
            ],
            "metadata": {
                "azdata_cell_guid": "b9e46720-5c08-4516-ba61-34f52e228cb0"
            }
        },
        {
            "cell_type": "markdown",
            "source": [
                "## List K8s Contexts"
            ],
            "metadata": {
                "azdata_cell_guid": "8fb5a766-ded2-4b0f-9745-d109131fd2c0"
            }
        },
        {
            "cell_type": "code",
            "source": [
                "kubectl config get-contexts"
            ],
            "metadata": {
                "azdata_cell_guid": "b5af800d-46b8-47f6-a315-38eb221c9569",
                "tags": []
            },
            "outputs": [],
            "execution_count": null
        },
        {
            "cell_type": "markdown",
            "source": [
                "## Switch Context to aks-cluster-demo"
            ],
            "metadata": {
                "azdata_cell_guid": "0c534af2-a01b-4aac-adc6-b05bfba282a0"
            }
        },
        {
            "cell_type": "code",
            "source": [
                "kubectl config use-context $aksclustername #aks-cluster-demo"
            ],
            "metadata": {
                "azdata_cell_guid": "1dce948f-ba82-41e1-ab9e-ba52c83e8cf5",
                "tags": []
            },
            "outputs": [],
            "execution_count": null
        },
        {
            "cell_type": "markdown",
            "source": [
                "## Check Cluster Information"
            ],
            "metadata": {
                "azdata_cell_guid": "64254ec5-9511-4975-846e-6231aae427d3"
            }
        },
        {
            "cell_type": "code",
            "source": [
                "kubectl cluster-info dump"
            ],
            "metadata": {
                "azdata_cell_guid": "f6295c71-7853-42e7-8f8d-6f0e8ea024f5"
            },
            "outputs": [],
            "execution_count": null
        },
        {
            "cell_type": "markdown",
            "source": [
                "## Check Namespaces"
            ],
            "metadata": {
                "azdata_cell_guid": "7a6b9823-f9de-40fb-b4f9-a209a12b6da3"
            }
        },
        {
            "cell_type": "code",
            "source": [
                "kubectl get namespace"
            ],
            "metadata": {
                "azdata_cell_guid": "4def0134-555c-4da2-af8e-8736b4f2ba76"
            },
            "outputs": [],
            "execution_count": null
        },
        {
            "cell_type": "markdown",
            "source": [
                "## Create \"demo\" Namespace"
            ],
            "metadata": {
                "azdata_cell_guid": "8b43fe9b-0839-4799-8535-8cb669cda820"
            }
        },
        {
            "cell_type": "code",
            "source": [
                "kubectl create namespace demo"
            ],
            "metadata": {
                "azdata_cell_guid": "275262af-3c4d-4452-a6e6-8b6646fe3ea1"
            },
            "outputs": [],
            "execution_count": null
        },
        {
            "cell_type": "markdown",
            "source": [
                "## View aks Nodes"
            ],
            "metadata": {
                "azdata_cell_guid": "0fab326a-25c4-4c90-9d36-367b051afb61"
            }
        },
        {
            "cell_type": "code",
            "source": [
                "kubectl get nodes --namespace all"
            ],
            "metadata": {
                "azdata_cell_guid": "76d0b6a7-8700-4973-9f6f-2fdd530b5cde",
                "tags": []
            },
            "outputs": [],
            "execution_count": null
        },
        {
            "cell_type": "markdown",
            "source": [
                "# Persisting Storage"
            ],
            "metadata": {
                "azdata_cell_guid": "535892fa-e18b-470a-8997-68dc7077949f"
            }
        },
        {
            "cell_type": "markdown",
            "source": [
                "## View Storage Class yaml"
            ],
            "metadata": {
                "azdata_cell_guid": "21535788-9fba-4f6d-8bb9-02ca661876f8"
            }
        },
        {
            "cell_type": "code",
            "source": [
                "Get-Content storageclass.yaml"
            ],
            "metadata": {
                "azdata_cell_guid": "5acf566c-944c-4762-bab1-20b7fd689e1d",
                "tags": []
            },
            "outputs": [],
            "execution_count": null
        },
        {
            "cell_type": "markdown",
            "source": [
                "## Create Storage Class"
            ],
            "metadata": {
                "azdata_cell_guid": "4e8ec467-fbc5-4519-8cb4-ed02996fed27"
            }
        },
        {
            "cell_type": "code",
            "source": [
                "kubectl apply -f storageclass.yaml"
            ],
            "metadata": {
                "azdata_cell_guid": "c4426cb5-4555-4e31-810e-7aeb23a1ad50",
                "tags": []
            },
            "outputs": [],
            "execution_count": null
        },
        {
            "cell_type": "markdown",
            "source": [
                "## Check Storage Class"
            ],
            "metadata": {
                "azdata_cell_guid": "c1b60cd0-71bf-4eb3-9080-fcdf9dddea18"
            }
        },
        {
            "cell_type": "code",
            "source": [
                "kubectl get storageclass\r\n",
                "kubectl get sc"
            ],
            "metadata": {
                "azdata_cell_guid": "89809329-9dbf-4634-819d-2803e3c5c9cb",
                "tags": []
            },
            "outputs": [],
            "execution_count": null
        },
        {
            "cell_type": "markdown",
            "source": [
                "## View Persistent Volume Claim"
            ],
            "metadata": {
                "azdata_cell_guid": "53d1b2d5-b6cd-40c5-b085-a9c6dc2fa3cc"
            }
        },
        {
            "cell_type": "code",
            "source": [
                "Get-Content persistentvolumeclaim.yaml"
            ],
            "metadata": {
                "azdata_cell_guid": "ad0942dc-fb68-4e7e-b104-8e4b0a18d491",
                "tags": []
            },
            "outputs": [],
            "execution_count": null
        },
        {
            "cell_type": "markdown",
            "source": [
                "## Create Persistent Volume Claim"
            ],
            "metadata": {
                "azdata_cell_guid": "d21cf734-34fe-4e09-bf72-11ab6e9a199a"
            }
        },
        {
            "cell_type": "code",
            "source": [
                "kubectl apply -f persistentvolumeclaim.yaml -n demo"
            ],
            "metadata": {
                "azdata_cell_guid": "3469db1d-d9f1-4fc9-ab42-6c2afb5cdeb1",
                "tags": []
            },
            "outputs": [],
            "execution_count": null
        },
        {
            "cell_type": "markdown",
            "source": [
                "## Check Persistent Volume Claim"
            ],
            "metadata": {
                "azdata_cell_guid": "aa8a1fdc-7e5a-4fcb-af07-bbe369f80a77"
            }
        },
        {
            "cell_type": "code",
            "source": [
                "kubectl get persistentvolumeclaim -n demo\r\n",
                "kubectl get pvc -o wide -n demo"
            ],
            "metadata": {
                "azdata_cell_guid": "136f6e40-078a-4cf2-b567-e647f77d4a9b",
                "tags": []
            },
            "outputs": [],
            "execution_count": null
        },
        {
            "cell_type": "markdown",
            "source": [
                "## View Persistent Volume Claim (Dynamically Generated)"
            ],
            "metadata": {
                "azdata_cell_guid": "2013073d-f285-4ce0-bb86-68369675ce2f"
            }
        },
        {
            "cell_type": "code",
            "source": [
                "kubectl get persistentvolume -n demo\r\n",
                "kubectl get pv -o wide -n demo"
            ],
            "metadata": {
                "azdata_cell_guid": "742b9503-26ad-417e-af35-6c7ca4030154",
                "tags": []
            },
            "outputs": [],
            "execution_count": null
        },
        {
            "cell_type": "markdown",
            "source": [
                "# Secrets"
            ],
            "metadata": {
                "azdata_cell_guid": "31d81d22-9779-429d-b35a-489892b1f7e1"
            }
        },
        {
            "cell_type": "markdown",
            "source": [
                "## Create Secret"
            ],
            "metadata": {
                "azdata_cell_guid": "dd426b61-df23-4b44-b40e-ce6e0548cb93"
            }
        },
        {
            "cell_type": "code",
            "source": [
                "kubectl create secret generic secret-aks-mssql --from-literal=SA_PASSWORD=\"P@ssword1\" -n demo"
            ],
            "metadata": {
                "azdata_cell_guid": "ee2340f7-fcd9-421e-b42c-92e2d003df00",
                "tags": []
            },
            "outputs": [],
            "execution_count": null
        },
        {
            "cell_type": "markdown",
            "source": [
                "## View Secret"
            ],
            "metadata": {
                "azdata_cell_guid": "9bbb4caa-6885-404d-a376-9e258f0c6b53"
            }
        },
        {
            "cell_type": "code",
            "source": [
                "kubectl get secrets -n demo"
            ],
            "metadata": {
                "azdata_cell_guid": "949db0d1-bdd4-489d-a3e5-2395b3e0a255",
                "tags": []
            },
            "outputs": [],
            "execution_count": null
        },
        {
            "cell_type": "markdown",
            "source": [
                "## Describe Secret"
            ],
            "metadata": {
                "azdata_cell_guid": "fb87527e-0a09-4d3f-81d0-125e16d7f2ae"
            }
        },
        {
            "cell_type": "code",
            "source": [
                "kubectl describe secret secret-aks-mssql -n demo"
            ],
            "metadata": {
                "azdata_cell_guid": "85cfc383-109a-49d9-8548-5efce9440814",
                "tags": []
            },
            "outputs": [],
            "execution_count": null
        },
        {
            "cell_type": "markdown",
            "source": [
                "# Create SQL Server On AKS"
            ],
            "metadata": {
                "azdata_cell_guid": "2a66b542-3579-4537-9b63-adc6ac4e71a2"
            }
        },
        {
            "cell_type": "markdown",
            "source": [
                "## Deploy SQL Server"
            ],
            "metadata": {
                "azdata_cell_guid": "2521c532-d768-4144-a0df-b87b1fd6fdd7"
            }
        },
        {
            "cell_type": "code",
            "source": [
                "kubectl apply -f sqlserver_persistentvolume.yaml -n demo"
            ],
            "metadata": {
                "azdata_cell_guid": "e48b8b3c-f1ac-4e88-a63e-845b77d23181",
                "tags": []
            },
            "outputs": [],
            "execution_count": null
        },
        {
            "cell_type": "code",
            "source": [
                "Get-Content sqlserver_persistentvolume.yaml"
            ],
            "metadata": {
                "azdata_cell_guid": "5016a678-fc64-4aa6-8eb8-5fc36dc70281"
            },
            "outputs": [],
            "execution_count": null
        },
        {
            "cell_type": "markdown",
            "source": [
                "## Check Deployment"
            ],
            "metadata": {
                "azdata_cell_guid": "4ddd7de6-c3fe-420f-a7ad-7cae59eb1718"
            }
        },
        {
            "cell_type": "code",
            "source": [
                "# Can take up to 70s\r\n",
                "kubectl get deployments -n demo"
            ],
            "metadata": {
                "azdata_cell_guid": "4bf57314-e696-46c2-9ee5-df6f80e894e4",
                "tags": []
            },
            "outputs": [],
            "execution_count": null
        },
        {
            "cell_type": "markdown",
            "source": [
                "## View Pod Logs"
            ],
            "metadata": {
                "azdata_cell_guid": "21826140-c192-46de-9385-de69c90455d9"
            }
        },
        {
            "cell_type": "code",
            "source": [
                "kubectl get pods -o wide -n demo\r\n",
                "$podname = kubectl get pods -o jsonpath='{.items[0].metadata.name}' -n demo"
            ],
            "metadata": {
                "azdata_cell_guid": "7f3e74c1-8a0c-41da-9cd7-323fc1fd5875",
                "tags": []
            },
            "outputs": [],
            "execution_count": null
        },
        {
            "cell_type": "code",
            "source": [
                "kubectl logs $podname -n demo"
            ],
            "metadata": {
                "azdata_cell_guid": "1968266e-8ba4-4fd0-9430-231f24534025",
                "tags": []
            },
            "outputs": [],
            "execution_count": null
        },
        {
            "cell_type": "code",
            "source": [
                "kubectl describe pod $podname -n demo"
            ],
            "metadata": {
                "azdata_cell_guid": "2d2805d2-0f48-43ed-b30a-68f83b00896f",
                "tags": []
            },
            "outputs": [],
            "execution_count": null
        },
        {
            "cell_type": "markdown",
            "source": [
                "## <span style=\"color: #FFFFFF;\">Expose&nbsp;deployment to&nbsp;connect&nbsp;externally</span>"
            ],
            "metadata": {
                "azdata_cell_guid": "04f957d0-b37d-4df9-87d7-31f5d5fd6c84",
                "language": ""
            }
        },
        {
            "cell_type": "code",
            "source": [
                "#kubectl expose deployment aks-sqlserver --name=sqlservernp --type=NodePort --port=1433 --target-port=1433\r\n",
                "kubectl expose deployment aks-sqlserver --name=sqlserverlb --type=LoadBalancer --port=1433 --target-port=1433 -n demo"
            ],
            "metadata": {
                "azdata_cell_guid": "bf5e6d63-b6cf-4ca8-84a2-513f4bb8ab1b",
                "tags": []
            },
            "outputs": [],
            "execution_count": null
        },
        {
            "cell_type": "code",
            "source": [
                "kubectl get service -n demo"
            ],
            "metadata": {
                "azdata_cell_guid": "04e995b3-ef69-426c-a240-17122091d5e3",
                "tags": []
            },
            "outputs": [],
            "execution_count": null
        },
        {
            "cell_type": "markdown",
            "source": [
                "# Creating / Persisting Databases"
            ],
            "metadata": {
                "azdata_cell_guid": "999b4025-562b-44fa-80c7-e1edd41a587b"
            }
        },
        {
            "cell_type": "markdown",
            "source": [
                "## Create Database and Login"
            ],
            "metadata": {
                "azdata_cell_guid": "d9a79c01-0741-41ce-badd-9b1dc20c2274"
            }
        },
        {
            "cell_type": "code",
            "source": [
                "#$cred = Get-Credential sa\r\n",
                "$podIP = kubectl get service -o jsonpath='{.items[0].status.loadBalancer.ingress[0].ip}' -n demo\r\n",
                "\r\n",
                "write-host $podIP\r\n",
                "write-host $cred"
            ],
            "metadata": {
                "azdata_cell_guid": "81ca08bd-4460-493f-8dec-86e9b878b67b",
                "tags": []
            },
            "outputs": [],
            "execution_count": null
        },
        {
            "cell_type": "code",
            "source": [
                "Invoke-DbaQuery -SqlInstance $podIP -SqlCredential $cred -Query \"select @@version\""
            ],
            "metadata": {
                "azdata_cell_guid": "bc3b1fb1-7b69-4357-9f78-f5ab0598ce71",
                "tags": []
            },
            "outputs": [],
            "execution_count": null
        },
        {
            "cell_type": "code",
            "source": [
                "Invoke-DbaQuery -SqlInstance $podIP -SqlCredential $cred -Query \"CREATE DATABASE Demo1;\"\r\n",
                "\r\n",
                "Invoke-DbaQuery -SqlInstance $podIP -SqlCredential $cred -Query \"CREATE LOGIN [test1] WITH PASSWORD=N'P@ssword1', DEFAULT_DATABASE=[master], CHECK_EXPIRATION=OFF, CHECK_POLICY=OFF\"\r\n",
                "\r\n",
                "Invoke-DbaQuery -SqlInstance $podIP -SqlCredential $cred -Query \"EXEC sys.sp_configure N'show advanced options', N'1'  RECONFIGURE WITH OVERRIDE\r\n",
                "EXEC sys.sp_configure N'max server memory (MB)', N'3000'\r\n",
                "RECONFIGURE WITH OVERRIDE\r\n",
                "GO\""
            ],
            "metadata": {
                "azdata_cell_guid": "29733174-c3b2-498c-8bb4-28c74e8d2c26",
                "tags": []
            },
            "outputs": [],
            "execution_count": null
        },
        {
            "cell_type": "code",
            "source": [
                "Invoke-DbaQuery -SqlInstance $podIP -SqlCredential $cred -Query \"select name AS DBName from sys.databases;\""
            ],
            "metadata": {
                "azdata_cell_guid": "7a4e5245-cc8b-492d-b406-a9b769bfa2d3",
                "tags": []
            },
            "outputs": [],
            "execution_count": null
        },
        {
            "cell_type": "code",
            "source": [
                "Invoke-DbaQuery -SqlInstance $podIP -SqlCredential $cred -Query \"SELECT name AS LoginName FROM syslogins WHERE [name] like 'test%';\""
            ],
            "metadata": {
                "azdata_cell_guid": "f954a527-f00a-44c7-ab0c-ba4525d73abe",
                "tags": []
            },
            "outputs": [],
            "execution_count": null
        },
        {
            "cell_type": "markdown",
            "source": [
                "## Have a bit play around to see if we can break things!"
            ],
            "metadata": {
                "azdata_cell_guid": "5ecc491a-319c-4704-a1e9-c9ae03b4edf0"
            }
        },
        {
            "cell_type": "markdown",
            "source": [
                "## Lets try Deleting a Pod"
            ],
            "metadata": {
                "azdata_cell_guid": "c0597e39-177a-4b12-b84a-6d6a9c7aa9df"
            }
        },
        {
            "cell_type": "code",
            "source": [
                "$podname = kubectl get pods -o jsonpath='{.items[0].metadata.name}' -n demo\r\n",
                "kubectl delete pod $podname -n demo"
            ],
            "metadata": {
                "azdata_cell_guid": "2c8fb78a-f2db-4d45-8fb9-77e0293d82c0",
                "tags": []
            },
            "outputs": [],
            "execution_count": null
        },
        {
            "cell_type": "code",
            "source": [
                "kubectl get pods -o wide -n demo"
            ],
            "metadata": {
                "azdata_cell_guid": "325e4c5e-4f68-4796-9b43-0944b7371633",
                "tags": []
            },
            "outputs": [],
            "execution_count": null
        },
        {
            "cell_type": "code",
            "source": [
                "$podname = kubectl get pods -o jsonpath='{.items[0].metadata.name}' -n demo\r\n",
                "kubectl logs $podname -n demo"
            ],
            "metadata": {
                "azdata_cell_guid": "a141641f-7080-47e8-901c-29b23a99242e",
                "tags": []
            },
            "outputs": [],
            "execution_count": null
        },
        {
            "cell_type": "code",
            "source": [
                "Invoke-DbaQuery -SqlInstance $podIP -SqlCredential $cred -Query \"select name from sys.databases;\""
            ],
            "metadata": {
                "azdata_cell_guid": "f4364180-21ba-4ab2-8638-d43efb4358bd",
                "tags": []
            },
            "outputs": [],
            "execution_count": null
        },
        {
            "cell_type": "markdown",
            "source": [
                "## Lets go crazy and Delete the deployment!"
            ],
            "metadata": {
                "azdata_cell_guid": "942ea20c-7640-4215-b7c1-c925db9faad3"
            }
        },
        {
            "cell_type": "code",
            "source": [
                "$FolderLocation = \"C:\\Users\\ChrisTaylor\\OneDrive\\Git\\Presentations\\Docker\\Kubernetify Your Containers\\Data Relay 2021\\Demo\\2 - Azure Kubernetes Service\"\r\n",
                "Set-Location -Path $FolderLocation\r\n",
                "kubectl delete deployment aks-sqlserver -n demo"
            ],
            "metadata": {
                "azdata_cell_guid": "57493cc7-dc84-47c5-a8e7-78a9a958ab17",
                "tags": []
            },
            "outputs": [],
            "execution_count": null
        },
        {
            "cell_type": "code",
            "source": [
                "kubectl get deployments -n all\r\n",
                "kubectl get pods -n demo"
            ],
            "metadata": {
                "azdata_cell_guid": "74e1e69d-55ff-49fd-b4f7-535d3d239421"
            },
            "outputs": [],
            "execution_count": null
        },
        {
            "cell_type": "code",
            "source": [
                "kubectl apply -f sqlserver_persistentvolume.yaml -n demo"
            ],
            "metadata": {
                "azdata_cell_guid": "52f77e3e-d53d-49b3-a90a-7e6cc91ea2b4",
                "tags": []
            },
            "outputs": [],
            "execution_count": null
        },
        {
            "cell_type": "code",
            "source": [
                "# Can Take ~120s to fully come up due to detatch / re-attach persistentvolumeclaim's\r\n",
                "kubectl get deployments -n demo"
            ],
            "metadata": {
                "azdata_cell_guid": "2cd2d739-f2c3-4e33-bca3-24c8a242dcb2",
                "tags": []
            },
            "outputs": [],
            "execution_count": null
        },
        {
            "cell_type": "markdown",
            "source": [
                "### Check DB still exits"
            ],
            "metadata": {
                "azdata_cell_guid": "d1d80914-48b8-4497-88af-06159fdda0a0"
            }
        },
        {
            "cell_type": "code",
            "source": [
                "kubectl get pods -n demo"
            ],
            "metadata": {
                "azdata_cell_guid": "760db173-542b-410c-af9e-aafc611445ac"
            },
            "outputs": [],
            "execution_count": null
        },
        {
            "cell_type": "code",
            "source": [
                "$podname = kubectl get pods -o jsonpath='{.items[0].metadata.name}' -n demo\r\n",
                "kubectl describe pod $podname -n demo"
            ],
            "metadata": {
                "azdata_cell_guid": "f0bc5e3d-6ed9-4c15-a836-5c196f612dae"
            },
            "outputs": [],
            "execution_count": null
        },
        {
            "cell_type": "code",
            "source": [
                "$podIP = kubectl get service -o jsonpath='{.items[0].status.loadBalancer.ingress[0].ip}' -n demo\r\n",
                "Invoke-DbaQuery -SqlInstance $podIP -SqlCredential $cred -Query \"select name from sys.databases;\""
            ],
            "metadata": {
                "azdata_cell_guid": "c34b772b-a743-4c88-9d6a-fe2df3b5e282",
                "tags": []
            },
            "outputs": [],
            "execution_count": null
        },
        {
            "cell_type": "markdown",
            "source": [
                "## Try scaling to break things :)"
            ],
            "metadata": {
                "azdata_cell_guid": "92125e2b-75f2-4b98-b282-b94b3a5aa730"
            }
        },
        {
            "cell_type": "code",
            "source": [
                "kubectl scale deployment/aks-sqlserver --replicas=3 -n demo"
            ],
            "metadata": {
                "azdata_cell_guid": "c0444cd0-c7cf-487a-9fb1-aac5e35d2483",
                "tags": []
            },
            "outputs": [],
            "execution_count": null
        },
        {
            "cell_type": "code",
            "source": [
                "kubectl get pods -o wide -n demo"
            ],
            "metadata": {
                "azdata_cell_guid": "19f10ec7-ab8d-47f2-b360-39f6a65ed526"
            },
            "outputs": [],
            "execution_count": null
        },
        {
            "cell_type": "markdown",
            "source": [
                "The original Pod will still be ok"
            ],
            "metadata": {
                "azdata_cell_guid": "d7654ca2-1c6d-4ed0-abaa-8e68ced1d1ce"
            }
        },
        {
            "cell_type": "code",
            "source": [
                "$podname1 = kubectl get pods -o jsonpath='{.items[0].metadata.name}' -n demo\r\n",
                "kubectl logs $podname1 -n demo"
            ],
            "metadata": {
                "azdata_cell_guid": "a6753490-4384-4a38-aa35-286bf991bfb5",
                "tags": []
            },
            "outputs": [],
            "execution_count": null
        },
        {
            "cell_type": "code",
            "source": [
                "kubectl describe pod $podname1 -n demo"
            ],
            "metadata": {
                "azdata_cell_guid": "f05494a3-c4fe-448c-a4f5-fe2b2775a230"
            },
            "outputs": [],
            "execution_count": null
        },
        {
            "cell_type": "markdown",
            "source": [
                "2nd and 3rd Pods will fail to create"
            ],
            "metadata": {
                "azdata_cell_guid": "1902f4a2-e03d-4c24-8e70-8f84f38ceb31"
            }
        },
        {
            "cell_type": "code",
            "source": [
                "$podname2 = kubectl get pods -o jsonpath='{.items[2].metadata.name}' -n demo\r\n",
                "kubectl logs $podname2 -n demo\r\n",
                "<#\r\n",
                " example error:\r\n",
                "    Error 5(Access is denied.) occurred while opening file '/var/opt/mssql/data/master.mdf' to obtain configuration information at startup. \r\n",
                "    An invalid startup option might have caused the error. Verify your startup options, and correct or remove them if necessary.\r\n",
                "#>"
            ],
            "metadata": {
                "azdata_cell_guid": "7d481fbd-079b-42a7-85ff-140f7b2b2f49",
                "tags": []
            },
            "outputs": [],
            "execution_count": null
        },
        {
            "cell_type": "code",
            "source": [
                "kubectl scale deployment/aks-sqlserver --replicas=1 -n demo"
            ],
            "metadata": {
                "azdata_cell_guid": "4f25b478-e917-4cef-b693-a2c8cef4589b",
                "tags": []
            },
            "outputs": [],
            "execution_count": null
        },
        {
            "cell_type": "code",
            "source": [
                "kubectl get pods -o wide -n demo"
            ],
            "metadata": {
                "azdata_cell_guid": "ede7ec4c-a06b-4b19-9dc4-0f22b439639b",
                "tags": []
            },
            "outputs": [],
            "execution_count": null
        },
        {
            "cell_type": "markdown",
            "source": [
                "# Patching / Upgrading SQL Server"
            ],
            "metadata": {
                "azdata_cell_guid": "a49f159d-5d30-4841-99cd-daf611e793fe"
            }
        },
        {
            "cell_type": "markdown",
            "source": [
                "## Check SQL Server CU and Rollout History\n",
                "\n",
                "We should be on SQL Server 2017 CU21 and looking to upgrade to CU23"
            ],
            "metadata": {
                "azdata_cell_guid": "b4fbbf14-bf36-43f1-8e59-1cd739f41c6d"
            }
        },
        {
            "cell_type": "code",
            "source": [
                "kubectl rollout history deployment/aks-sqlserver-nopvc -n simpleupgrade"
            ],
            "metadata": {
                "azdata_cell_guid": "d0e27642-f253-45e3-981b-b8557c2952ce",
                "tags": []
            },
            "outputs": [],
            "execution_count": null
        },
        {
            "cell_type": "code",
            "source": [
                "#kubectl get service -o jsonpath='{.items[0].status.loadBalancer.ingress[0].ip}' -n simpleupgrade"
            ],
            "metadata": {
                "azdata_cell_guid": "3976e5af-8dbd-47b8-bc54-ed20910e8605"
            },
            "outputs": [],
            "execution_count": null
        },
        {
            "cell_type": "code",
            "source": [
                "#$podIP = kubectl get service -o jsonpath='{.items[0].status.loadBalancer.ingress[0].ip}' -n simpleupgrade\r\n",
                "#write-host $podIP"
            ],
            "metadata": {
                "azdata_cell_guid": "a683b2f5-1cc7-4c72-9547-45f25fcc1068"
            },
            "outputs": [],
            "execution_count": null
        },
        {
            "cell_type": "code",
            "source": [
                "Invoke-DbaQuery -SqlInstance $podIP -SqlCredential $cred -Query \"select @@version;\""
            ],
            "metadata": {
                "azdata_cell_guid": "2d52f5f9-ab34-4502-baa9-70c26ee6a1b7",
                "tags": []
            },
            "outputs": [],
            "execution_count": null
        },
        {
            "cell_type": "markdown",
            "source": [
                "## Lets upgrade to CU23\n",
                "\n",
                "NOTE: There is more than one way to do this:\n",
                "\n",
                "1. Re-Deploy\n",
                "2. Switch the image used"
            ],
            "metadata": {
                "azdata_cell_guid": "6720621d-e662-4c8e-8011-c006e312a6a9"
            }
        },
        {
            "cell_type": "code",
            "source": [
                "kubectl apply -f .\\sqlserver_persistentvolume_2017_Upgrade_Simple.yaml -n simpleupgrade\r\n",
                "#kubectl set image deployment/aks-sqlserver aks-sqlserver=mcr.microsoft.com/mssql/server:2017-CU23-ubuntu-16.04 -n demo\r\n",
                "kubectl get pods -n simpleupgrade"
            ],
            "metadata": {
                "azdata_cell_guid": "8781e731-b60c-4d3e-8961-39ce1bcdb18a",
                "tags": []
            },
            "outputs": [],
            "execution_count": null
        },
        {
            "cell_type": "code",
            "source": [
                "Get-Content .\\sqlserver_persistentvolume_2017_Upgrade_Simple.yaml"
            ],
            "metadata": {
                "azdata_cell_guid": "302c536f-30b4-4a6a-9ae0-e29a98ff1040"
            },
            "outputs": [],
            "execution_count": null
        },
        {
            "cell_type": "code",
            "source": [
                "#kubectl delete pods --all -n demo\r\n",
                "kubectl get pods -n simpleupgrade"
            ],
            "metadata": {
                "azdata_cell_guid": "75a77f73-f689-425f-a445-acf471fdf52b",
                "tags": []
            },
            "outputs": [],
            "execution_count": null
        },
        {
            "cell_type": "markdown",
            "source": [
                "## This will take anywhere from 1 - 5mins if using PVC"
            ],
            "metadata": {
                "azdata_cell_guid": "d580d260-3f28-475b-a8b0-b9c526ceb54c"
            }
        },
        {
            "cell_type": "code",
            "source": [
                "$podname = kubectl get pods -o jsonpath='{.items[1].metadata.name}' -n simpleupgrade\r\n",
                "kubectl describe pod $podname -n simpleupgrade\r\n",
                "kubectl rollout history deployment/aks-sqlserver-nopvc -n simpleupgrade "
            ],
            "metadata": {
                "azdata_cell_guid": "220c8a43-6c31-497b-9d95-f0ed1cbcd3b9",
                "tags": []
            },
            "outputs": [],
            "execution_count": null
        },
        {
            "cell_type": "code",
            "source": [
                "kubectl logs $podname -n simpleupgrade"
            ],
            "metadata": {
                "azdata_cell_guid": "537801fc-0151-485a-8f4c-ae2052e84a34",
                "tags": []
            },
            "outputs": [],
            "execution_count": null
        },
        {
            "cell_type": "markdown",
            "source": [
                "### Check that we are now on CU23 (can take a few minutes)"
            ],
            "metadata": {
                "azdata_cell_guid": "2f3cb6b8-21e6-4126-8b6f-c96e0e452053"
            }
        },
        {
            "cell_type": "code",
            "source": [
                "#$cred = Get-Credential sa\r\n",
                "$podIP = kubectl get service -o jsonpath='{.items[0].status.loadBalancer.ingress[0].ip}' -n simpleupgrade\r\n",
                "Invoke-DbaQuery -SqlInstance $podIP -SqlCredential $cred -Query \"select @@version;\""
            ],
            "metadata": {
                "azdata_cell_guid": "f06a4c72-4d45-4bf5-84f3-76b243a34f12",
                "tags": []
            },
            "outputs": [],
            "execution_count": null
        },
        {
            "cell_type": "markdown",
            "source": [
                "### Switch back to CU21 by using previous image"
            ],
            "metadata": {
                "azdata_cell_guid": "eac93261-4338-4b0f-b594-b4d5471131fe"
            }
        },
        {
            "cell_type": "code",
            "source": [
                "#kubectl apply -f .\\sqlserver_persistentvolume_2017.yaml\r\n",
                "kubectl set image deployment/aks-sqlserver-nopvc aks-sqlserver-nopvc=ctaksacrdemo.azurecr.io/mssqldemo:2017-cu21 -n simpleupgrade\r\n",
                "kubectl get pods -n simpleupgrade\r\n",
                "kubectl rollout history deployment/aks-sqlserver-nopvc -n simpleupgrade"
            ],
            "metadata": {
                "azdata_cell_guid": "32010027-d012-4c10-945a-10e8c056334b",
                "tags": []
            },
            "outputs": [],
            "execution_count": null
        },
        {
            "cell_type": "code",
            "source": [
                "$podname = kubectl get pods -o jsonpath='{.items[0].metadata.name}' -n simpleupgrade"
            ],
            "metadata": {
                "azdata_cell_guid": "69288772-08fd-419f-96df-b2fd7000217f",
                "tags": []
            },
            "outputs": [],
            "execution_count": null
        },
        {
            "cell_type": "code",
            "source": [
                "kubectl describe pod $podname -n simpleupgrade"
            ],
            "metadata": {
                "azdata_cell_guid": "0f70c6d1-52d9-459c-9bc0-5b31d65ede1b"
            },
            "outputs": [],
            "execution_count": null
        },
        {
            "cell_type": "code",
            "source": [
                "kubectl logs $podname -n simpleupgrade"
            ],
            "metadata": {
                "azdata_cell_guid": "8b6d36d3-a3a3-4c8f-9060-428e8a273115",
                "tags": []
            },
            "outputs": [],
            "execution_count": null
        },
        {
            "cell_type": "markdown",
            "source": [
                "### Final check of the pod to make sure we're back on CU21 (can also see in Azure Portal Replica Set)"
            ],
            "metadata": {
                "azdata_cell_guid": "35a1255a-e208-4b24-ba88-a211b54b45e1"
            }
        },
        {
            "cell_type": "code",
            "source": [
                "$podIP = kubectl get service -o jsonpath='{.items[0].status.loadBalancer.ingress[0].ip}' -n simpleupgrade\r\n",
                "Invoke-DbaQuery -SqlInstance $podIP -SqlCredential $cred -Query \"select @@version;\""
            ],
            "metadata": {
                "azdata_cell_guid": "bfbd6e71-702d-41c0-9331-92316a280e07",
                "tags": []
            },
            "outputs": [],
            "execution_count": null
        },
        {
            "cell_type": "markdown",
            "source": [
                "# Remove everything from the Demo"
            ],
            "metadata": {
                "azdata_cell_guid": "7d541114-ddb1-4560-b937-ce7d8f9f2c37"
            }
        },
        {
            "cell_type": "code",
            "source": [
                "kubectl delete deployment aks-sqlserver -n demo\r\n",
                "kubectl delete service aks-sqlserver-service -n demo\r\n",
                "kubectl delete service sqlserverlb -n demo\r\n",
                "kubectl delete secret secret-aks-mssql -n demo\r\n",
                "kubectl delete pvc pvc-aks-mssql-systemdbs -n demo\r\n",
                "kubectl delete pvc pvc-aks-mssql-data -n demo\r\n",
                "kubectl delete pvc pvc-aks-mssql-logs -n demo\r\n",
                "kubectl delete sc sc-aks-demo \r\n",
                "\r\n",
                "kubectl delete namespace demo\r\n",
                "kubectl delete namespace simpleupgrade"
            ],
            "metadata": {
                "azdata_cell_guid": "fac5294a-543f-4b97-99a0-294bba079cd9",
                "tags": []
            },
            "outputs": [],
            "execution_count": null
        },
        {
            "cell_type": "code",
            "source": [
                "kubectl get deployment -n demo\r\n",
                "kubectl get deployment -n simpleupgrade"
            ],
            "metadata": {
                "azdata_cell_guid": "76bf6c4d-ce7b-4563-8318-75f6ee450ad1",
                "tags": []
            },
            "outputs": [],
            "execution_count": null
        },
        {
            "cell_type": "markdown",
            "source": [
                "Shutdown AKS Cluster (to save money!)"
            ],
            "metadata": {
                "azdata_cell_guid": "11e06df1-1786-48bc-959e-d7f9e4b663ae"
            }
        },
        {
            "cell_type": "code",
            "source": [
                "<#\r\n",
                "az account clear\r\n",
                "az login\r\n",
                "az account show\r\n",
                "az account set --subscription $SubscriptionId\r\n",
                "az aks get-credentials --name $aksclustername --resource-group $resourcegroup\r\n",
                "#>\r\n",
                "az aks stop --name $aksclustername --resource-group $resourcegroup"
            ],
            "metadata": {
                "azdata_cell_guid": "e0c8f839-375f-4970-828b-f5ae4bdca426",
                "tags": []
            },
            "outputs": [],
            "execution_count": null
        },
        {
            "cell_type": "markdown",
            "source": [
                "# Kubernetes Dashboard"
            ],
            "metadata": {
                "azdata_cell_guid": "f99e0b2a-ba04-4e06-a98b-1f409f504cb5"
            }
        },
        {
            "cell_type": "code",
            "source": [
                "kubectl create clusterrolebinding kubernetes-dashboard --clusterrole=cluster-admin --serviceaccount=kube-system:kubernetes-dashboard"
            ],
            "metadata": {
                "azdata_cell_guid": "cfae397d-a19a-4450-80d7-2cc64bceb3d0"
            },
            "outputs": [],
            "execution_count": null
        },
        {
            "cell_type": "code",
            "source": [
                "az aks browse --resource-group $resourcegroup --name $aksclustername"
            ],
            "metadata": {
                "azdata_cell_guid": "7aba2ef6-0236-4728-9450-dac43598b2f8"
            },
            "outputs": [],
            "execution_count": null
        }
    ]
}